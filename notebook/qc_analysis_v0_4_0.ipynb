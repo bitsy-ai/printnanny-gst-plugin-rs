{
 "cells": [
  {
   "cell_type": "code",
   "execution_count": 2,
   "id": "a418680b",
   "metadata": {},
   "outputs": [],
   "source": [
    ":dep polars = { version=\"0.24.3\", features = [\"algo\",\"polars-algo\",\"dtype-struct\",\"dtype-time\", \"ipc\", \"ipc_streaming\", \"fmt\", \"lazy\",\"list\", \"list_eval\", \"dot_product\", \"cum_agg\", \"list_to_struct\", \"cumulative_eval\", \"temporal\", \"dynamic_groupby\"]}\n",
    ":dep glob = { version = \"0.3.0\"}\n",
    ":dep color-eyre = {version = \"0.6.2\"}\n",
    ":dep plotly = { version = \"0.8\" }\n"
   ]
  },
  {
   "cell_type": "code",
   "execution_count": 4,
   "id": "7464da85",
   "metadata": {},
   "outputs": [],
   "source": [
    "use polars::io::ipc::{IpcReader, IpcStreamReader};\n",
    "use polars::io::SerReader;\n",
    "use polars::prelude::*;\n",
    "use std::fs::File;\n",
    "use color_eyre::{Result};"
   ]
  },
  {
   "cell_type": "code",
   "execution_count": 5,
   "id": "50a5a2b5",
   "metadata": {},
   "outputs": [
    {
     "data": {
      "text/plain": [
       "shape: (11320, 7)\n",
       "┌────────────┬────────────┬────────────┬──────────┬─────┬───────────┬──────────────────┐\n",
       "│ detection_ ┆ detection_ ┆ detection_ ┆ detectio ┆ det ┆ detection ┆ ts               │\n",
       "│ boxes_x0   ┆ boxes_y0   ┆ boxes_x1   ┆ n_boxes_ ┆ ect ┆ _scores   ┆ ---              │\n",
       "│ ---        ┆ ---        ┆ ---        ┆ y1       ┆ ion ┆ ---       ┆ i64              │\n",
       "│ f32        ┆ f32        ┆ f32        ┆ ---      ┆ _cl ┆ f32       ┆                  │\n",
       "│            ┆            ┆            ┆ f32      ┆ ass ┆           ┆                  │\n",
       "│            ┆            ┆            ┆          ┆ es  ┆           ┆                  │\n",
       "│            ┆            ┆            ┆          ┆ --- ┆           ┆                  │\n",
       "│            ┆            ┆            ┆          ┆ i32 ┆           ┆                  │\n",
       "╞════════════╪════════════╪════════════╪══════════╪═════╪═══════════╪══════════════════╡\n",
       "│ 0.457292   ┆ 0.590198   ┆ 0.482011   ┆ 0.614641 ┆ 0   ┆ 0.3828125 ┆ 2149652932087183 │\n",
       "├╌╌╌╌╌╌╌╌╌╌╌╌┼╌╌╌╌╌╌╌╌╌╌╌╌┼╌╌╌╌╌╌╌╌╌╌╌╌┼╌╌╌╌╌╌╌╌╌╌┼╌╌╌╌╌┼╌╌╌╌╌╌╌╌╌╌╌┼╌╌╌╌╌╌╌╌╌╌╌╌╌╌╌╌╌╌┤\n",
       "│ 0.461082   ┆ 0.594048   ┆ 0.487827   ┆ 0.616136 ┆ 0   ┆ 0.171875  ┆ 2149652932087183 │\n",
       "├╌╌╌╌╌╌╌╌╌╌╌╌┼╌╌╌╌╌╌╌╌╌╌╌╌┼╌╌╌╌╌╌╌╌╌╌╌╌┼╌╌╌╌╌╌╌╌╌╌┼╌╌╌╌╌┼╌╌╌╌╌╌╌╌╌╌╌┼╌╌╌╌╌╌╌╌╌╌╌╌╌╌╌╌╌╌┤\n",
       "│ 0.464021   ┆ 0.58333    ┆ 0.490767   ┆ 0.606697 ┆ 0   ┆ 0.128906  ┆ 2149652932087183 │\n",
       "├╌╌╌╌╌╌╌╌╌╌╌╌┼╌╌╌╌╌╌╌╌╌╌╌╌┼╌╌╌╌╌╌╌╌╌╌╌╌┼╌╌╌╌╌╌╌╌╌╌┼╌╌╌╌╌┼╌╌╌╌╌╌╌╌╌╌╌┼╌╌╌╌╌╌╌╌╌╌╌╌╌╌╌╌╌╌┤\n",
       "│ 0.457753   ┆ 0.576589   ┆ 0.478581   ┆ 0.630567 ┆ 0   ┆ 0.046875  ┆ 2149652932087183 │\n",
       "├╌╌╌╌╌╌╌╌╌╌╌╌┼╌╌╌╌╌╌╌╌╌╌╌╌┼╌╌╌╌╌╌╌╌╌╌╌╌┼╌╌╌╌╌╌╌╌╌╌┼╌╌╌╌╌┼╌╌╌╌╌╌╌╌╌╌╌┼╌╌╌╌╌╌╌╌╌╌╌╌╌╌╌╌╌╌┤\n",
       "│ ...        ┆ ...        ┆ ...        ┆ ...      ┆ ... ┆ ...       ┆ ...              │\n",
       "├╌╌╌╌╌╌╌╌╌╌╌╌┼╌╌╌╌╌╌╌╌╌╌╌╌┼╌╌╌╌╌╌╌╌╌╌╌╌┼╌╌╌╌╌╌╌╌╌╌┼╌╌╌╌╌┼╌╌╌╌╌╌╌╌╌╌╌┼╌╌╌╌╌╌╌╌╌╌╌╌╌╌╌╌╌╌┤\n",
       "│ 0.993579   ┆ 0.575175   ┆ 1.001402   ┆ 0.743419 ┆ 2   ┆ 0.011719  ┆ 2149724271795052 │\n",
       "├╌╌╌╌╌╌╌╌╌╌╌╌┼╌╌╌╌╌╌╌╌╌╌╌╌┼╌╌╌╌╌╌╌╌╌╌╌╌┼╌╌╌╌╌╌╌╌╌╌┼╌╌╌╌╌┼╌╌╌╌╌╌╌╌╌╌╌┼╌╌╌╌╌╌╌╌╌╌╌╌╌╌╌╌╌╌┤\n",
       "│ 0.985592   ┆ 0.871624   ┆ 1.001669   ┆ 1.004451 ┆ 2   ┆ 0.011719  ┆ 2149724271795052 │\n",
       "├╌╌╌╌╌╌╌╌╌╌╌╌┼╌╌╌╌╌╌╌╌╌╌╌╌┼╌╌╌╌╌╌╌╌╌╌╌╌┼╌╌╌╌╌╌╌╌╌╌┼╌╌╌╌╌┼╌╌╌╌╌╌╌╌╌╌╌┼╌╌╌╌╌╌╌╌╌╌╌╌╌╌╌╌╌╌┤\n",
       "│ 0.642874   ┆ 0.305751   ┆ 0.972685   ┆ 0.705113 ┆ 2   ┆ 0.011719  ┆ 2149724271795052 │\n",
       "├╌╌╌╌╌╌╌╌╌╌╌╌┼╌╌╌╌╌╌╌╌╌╌╌╌┼╌╌╌╌╌╌╌╌╌╌╌╌┼╌╌╌╌╌╌╌╌╌╌┼╌╌╌╌╌┼╌╌╌╌╌╌╌╌╌╌╌┼╌╌╌╌╌╌╌╌╌╌╌╌╌╌╌╌╌╌┤\n",
       "│ 0.807064   ┆ 0.600514   ┆ 1.006616   ┆ 0.704205 ┆ 3   ┆ 0.011719  ┆ 2149724271795052 │\n",
       "└────────────┴────────────┴────────────┴──────────┴─────┴───────────┴──────────────────┘"
      ]
     },
     "execution_count": 5,
     "metadata": {},
     "output_type": "execute_result"
    }
   ],
   "source": [
    "let pattern = \"/home/leigh/projects/printnanny-gst-plugin/.tmp/fixture_0*.ipc\";\n",
    "let paths = glob::glob(&pattern).expect(\"Failed to parse glob pattern\");\n",
    "\n",
    "let lazyframes: Vec<LazyFrame> = paths\n",
    "    .map(|p| {\n",
    "        let p = p.unwrap();\n",
    "        let f = File::open(&p).expect(\"file not found\");\n",
    "        IpcStreamReader::new(f).finish().unwrap().lazy()\n",
    "    })\n",
    "    .collect();\n",
    "let boxdf = concat(&lazyframes, true, true).unwrap().collect().unwrap();\n",
    "boxdf"
   ]
  },
  {
   "cell_type": "code",
   "execution_count": 6,
   "id": "387b6574",
   "metadata": {},
   "outputs": [
    {
     "data": {
      "text/plain": [
       "Ok(shape: (817, 7)\n",
       "┌────────────┬────────────┬────────────┬──────────┬─────┬───────────┬──────────────────┐\n",
       "│ detection_ ┆ detection_ ┆ detection_ ┆ detectio ┆ det ┆ detection ┆ ts               │\n",
       "│ boxes_x0   ┆ boxes_y0   ┆ boxes_x1   ┆ n_boxes_ ┆ ect ┆ _scores   ┆ ---              │\n",
       "│ ---        ┆ ---        ┆ ---        ┆ y1       ┆ ion ┆ ---       ┆ u64              │\n",
       "│ f32        ┆ f32        ┆ f32        ┆ ---      ┆ _cl ┆ f32       ┆                  │\n",
       "│            ┆            ┆            ┆ f32      ┆ ass ┆           ┆                  │\n",
       "│            ┆            ┆            ┆          ┆ es  ┆           ┆                  │\n",
       "│            ┆            ┆            ┆          ┆ --- ┆           ┆                  │\n",
       "│            ┆            ┆            ┆          ┆ i32 ┆           ┆                  │\n",
       "╞════════════╪════════════╪════════════╪══════════╪═════╪═══════════╪══════════════════╡\n",
       "│ 0.518654   ┆ 0.451672   ┆ 0.558763   ┆ 0.484425 ┆ 0   ┆ 0.75      ┆ 2146389279008721 │\n",
       "├╌╌╌╌╌╌╌╌╌╌╌╌┼╌╌╌╌╌╌╌╌╌╌╌╌┼╌╌╌╌╌╌╌╌╌╌╌╌┼╌╌╌╌╌╌╌╌╌╌┼╌╌╌╌╌┼╌╌╌╌╌╌╌╌╌╌╌┼╌╌╌╌╌╌╌╌╌╌╌╌╌╌╌╌╌╌┤\n",
       "│ 0.517358   ┆ 0.45194    ┆ 0.557921   ┆ 0.482553 ┆ 0   ┆ 0.75      ┆ 2146389517351103 │\n",
       "├╌╌╌╌╌╌╌╌╌╌╌╌┼╌╌╌╌╌╌╌╌╌╌╌╌┼╌╌╌╌╌╌╌╌╌╌╌╌┼╌╌╌╌╌╌╌╌╌╌┼╌╌╌╌╌┼╌╌╌╌╌╌╌╌╌╌╌┼╌╌╌╌╌╌╌╌╌╌╌╌╌╌╌╌╌╌┤\n",
       "│ 0.518611   ┆ 0.450871   ┆ 0.558271   ┆ 0.481484 ┆ 0   ┆ 0.71875   ┆ 2146389754652635 │\n",
       "├╌╌╌╌╌╌╌╌╌╌╌╌┼╌╌╌╌╌╌╌╌╌╌╌╌┼╌╌╌╌╌╌╌╌╌╌╌╌┼╌╌╌╌╌╌╌╌╌╌┼╌╌╌╌╌┼╌╌╌╌╌╌╌╌╌╌╌┼╌╌╌╌╌╌╌╌╌╌╌╌╌╌╌╌╌╌┤\n",
       "│ 0.518611   ┆ 0.453191   ┆ 0.558271   ┆ 0.485578 ┆ 0   ┆ 0.6875    ┆ 2146389991574077 │\n",
       "├╌╌╌╌╌╌╌╌╌╌╌╌┼╌╌╌╌╌╌╌╌╌╌╌╌┼╌╌╌╌╌╌╌╌╌╌╌╌┼╌╌╌╌╌╌╌╌╌╌┼╌╌╌╌╌┼╌╌╌╌╌╌╌╌╌╌╌┼╌╌╌╌╌╌╌╌╌╌╌╌╌╌╌╌╌╌┤\n",
       "│ ...        ┆ ...        ┆ ...        ┆ ...      ┆ ... ┆ ...       ┆ ...              │\n",
       "├╌╌╌╌╌╌╌╌╌╌╌╌┼╌╌╌╌╌╌╌╌╌╌╌╌┼╌╌╌╌╌╌╌╌╌╌╌╌┼╌╌╌╌╌╌╌╌╌╌┼╌╌╌╌╌┼╌╌╌╌╌╌╌╌╌╌╌┼╌╌╌╌╌╌╌╌╌╌╌╌╌╌╌╌╌╌┤\n",
       "│ 0.538899   ┆ 0.212974   ┆ 0.992853   ┆ 0.677262 ┆ 2   ┆ 0.8046875 ┆ 2146455519199561 │\n",
       "├╌╌╌╌╌╌╌╌╌╌╌╌┼╌╌╌╌╌╌╌╌╌╌╌╌┼╌╌╌╌╌╌╌╌╌╌╌╌┼╌╌╌╌╌╌╌╌╌╌┼╌╌╌╌╌┼╌╌╌╌╌╌╌╌╌╌╌┼╌╌╌╌╌╌╌╌╌╌╌╌╌╌╌╌╌╌┤\n",
       "│ 0.891486   ┆ 0.58994    ┆ 1.00118    ┆ 0.854343 ┆ 3   ┆ 0.71875   ┆ 2146455519199561 │\n",
       "├╌╌╌╌╌╌╌╌╌╌╌╌┼╌╌╌╌╌╌╌╌╌╌╌╌┼╌╌╌╌╌╌╌╌╌╌╌╌┼╌╌╌╌╌╌╌╌╌╌┼╌╌╌╌╌┼╌╌╌╌╌╌╌╌╌╌╌┼╌╌╌╌╌╌╌╌╌╌╌╌╌╌╌╌╌╌┤\n",
       "│ 0.568164   ┆ 0.214636   ┆ 0.991095   ┆ 0.667117 ┆ 2   ┆ 0.75      ┆ 2146455755802645 │\n",
       "├╌╌╌╌╌╌╌╌╌╌╌╌┼╌╌╌╌╌╌╌╌╌╌╌╌┼╌╌╌╌╌╌╌╌╌╌╌╌┼╌╌╌╌╌╌╌╌╌╌┼╌╌╌╌╌┼╌╌╌╌╌╌╌╌╌╌╌┼╌╌╌╌╌╌╌╌╌╌╌╌╌╌╌╌╌╌┤\n",
       "│ 0.891486   ┆ 0.595214   ┆ 1.00118    ┆ 0.862609 ┆ 3   ┆ 0.75      ┆ 2146455755802645 │\n",
       "└────────────┴────────────┴────────────┴──────────┴─────┴───────────┴──────────────────┘)"
      ]
     },
     "execution_count": 6,
     "metadata": {},
     "output_type": "execute_result"
    }
   ],
   "source": [
    "let score_threshold = 0.5;\n",
    "let score_filter = col(\"detection_scores\").gt(score_threshold);\n",
    "\n",
    "boxdf.clone().lazy().filter(score_filter).collect()"
   ]
  },
  {
   "cell_type": "code",
   "execution_count": 80,
   "id": "25d28137",
   "metadata": {},
   "outputs": [
    {
     "data": {
      "text/plain": [
       "shape: (61, 19)\n",
       "┌────────────┬────────────┬────────────┬─────────┬─────┬──────────┬───────────┬──────────┬─────────┐\n",
       "│ detection_ ┆ _lower_bou ┆ _upper_bou ┆ ts      ┆ ... ┆ print__s ┆ raft__cou ┆ raft__me ┆ raft__s │\n",
       "│ classes    ┆ ndary      ┆ ndary      ┆ ---     ┆     ┆ td       ┆ nt        ┆ an       ┆ td      │\n",
       "│ ---        ┆ ---        ┆ ---        ┆ i64     ┆     ┆ ---      ┆ ---       ┆ ---      ┆ ---     │\n",
       "│ i32        ┆ i64        ┆ i64        ┆         ┆     ┆ f32      ┆ u32       ┆ f32      ┆ f32     │\n",
       "╞════════════╪════════════╪════════════╪═════════╪═════╪══════════╪═══════════╪══════════╪═════════╡\n",
       "│ 0          ┆ 2149653000 ┆ 2149654000 ┆ 2149653 ┆ ... ┆ null     ┆ 0         ┆ null     ┆ null    │\n",
       "│            ┆ 000000     ┆ 000000     ┆ 4389398 ┆     ┆          ┆           ┆          ┆         │\n",
       "│            ┆            ┆            ┆ 15      ┆     ┆          ┆           ┆          ┆         │\n",
       "├╌╌╌╌╌╌╌╌╌╌╌╌┼╌╌╌╌╌╌╌╌╌╌╌╌┼╌╌╌╌╌╌╌╌╌╌╌╌┼╌╌╌╌╌╌╌╌╌┼╌╌╌╌╌┼╌╌╌╌╌╌╌╌╌╌┼╌╌╌╌╌╌╌╌╌╌╌┼╌╌╌╌╌╌╌╌╌╌┼╌╌╌╌╌╌╌╌╌┤\n",
       "│ 0          ┆ 2149654000 ┆ 2149655000 ┆ 2149654 ┆ ... ┆ null     ┆ 0         ┆ null     ┆ null    │\n",
       "│            ┆ 000000     ┆ 000000     ┆ 1950347 ┆     ┆          ┆           ┆          ┆         │\n",
       "│            ┆            ┆            ┆ 62      ┆     ┆          ┆           ┆          ┆         │\n",
       "├╌╌╌╌╌╌╌╌╌╌╌╌┼╌╌╌╌╌╌╌╌╌╌╌╌┼╌╌╌╌╌╌╌╌╌╌╌╌┼╌╌╌╌╌╌╌╌╌┼╌╌╌╌╌┼╌╌╌╌╌╌╌╌╌╌┼╌╌╌╌╌╌╌╌╌╌╌┼╌╌╌╌╌╌╌╌╌╌┼╌╌╌╌╌╌╌╌╌┤\n",
       "│ 0          ┆ 2149655000 ┆ 2149656000 ┆ 2149655 ┆ ... ┆ null     ┆ 0         ┆ null     ┆ null    │\n",
       "│            ┆ 000000     ┆ 000000     ┆ 2017623 ┆     ┆          ┆           ┆          ┆         │\n",
       "│            ┆            ┆            ┆ 73      ┆     ┆          ┆           ┆          ┆         │\n",
       "├╌╌╌╌╌╌╌╌╌╌╌╌┼╌╌╌╌╌╌╌╌╌╌╌╌┼╌╌╌╌╌╌╌╌╌╌╌╌┼╌╌╌╌╌╌╌╌╌┼╌╌╌╌╌┼╌╌╌╌╌╌╌╌╌╌┼╌╌╌╌╌╌╌╌╌╌╌┼╌╌╌╌╌╌╌╌╌╌┼╌╌╌╌╌╌╌╌╌┤\n",
       "│ 0          ┆ 2149656000 ┆ 2149657000 ┆ 2149656 ┆ ... ┆ null     ┆ 0         ┆ null     ┆ null    │\n",
       "│            ┆ 000000     ┆ 000000     ┆ 2131300 ┆     ┆          ┆           ┆          ┆         │\n",
       "│            ┆            ┆            ┆ 44      ┆     ┆          ┆           ┆          ┆         │\n",
       "├╌╌╌╌╌╌╌╌╌╌╌╌┼╌╌╌╌╌╌╌╌╌╌╌╌┼╌╌╌╌╌╌╌╌╌╌╌╌┼╌╌╌╌╌╌╌╌╌┼╌╌╌╌╌┼╌╌╌╌╌╌╌╌╌╌┼╌╌╌╌╌╌╌╌╌╌╌┼╌╌╌╌╌╌╌╌╌╌┼╌╌╌╌╌╌╌╌╌┤\n",
       "│ ...        ┆ ...        ┆ ...        ┆ ...     ┆ ... ┆ ...      ┆ ...       ┆ ...      ┆ ...     │\n",
       "├╌╌╌╌╌╌╌╌╌╌╌╌┼╌╌╌╌╌╌╌╌╌╌╌╌┼╌╌╌╌╌╌╌╌╌╌╌╌┼╌╌╌╌╌╌╌╌╌┼╌╌╌╌╌┼╌╌╌╌╌╌╌╌╌╌┼╌╌╌╌╌╌╌╌╌╌╌┼╌╌╌╌╌╌╌╌╌╌┼╌╌╌╌╌╌╌╌╌┤\n",
       "│ 0          ┆ 2149710000 ┆ 2149711000 ┆ 2149710 ┆ ... ┆ null     ┆ 0         ┆ null     ┆ null    │\n",
       "│            ┆ 000000     ┆ 000000     ┆ 0413835 ┆     ┆          ┆           ┆          ┆         │\n",
       "│            ┆            ┆            ┆ 23      ┆     ┆          ┆           ┆          ┆         │\n",
       "├╌╌╌╌╌╌╌╌╌╌╌╌┼╌╌╌╌╌╌╌╌╌╌╌╌┼╌╌╌╌╌╌╌╌╌╌╌╌┼╌╌╌╌╌╌╌╌╌┼╌╌╌╌╌┼╌╌╌╌╌╌╌╌╌╌┼╌╌╌╌╌╌╌╌╌╌╌┼╌╌╌╌╌╌╌╌╌╌┼╌╌╌╌╌╌╌╌╌┤\n",
       "│ 0          ┆ 2149712000 ┆ 2149713000 ┆ 2149712 ┆ ... ┆ null     ┆ 0         ┆ null     ┆ null    │\n",
       "│            ┆ 000000     ┆ 000000     ┆ 6501357 ┆     ┆          ┆           ┆          ┆         │\n",
       "│            ┆            ┆            ┆ 88      ┆     ┆          ┆           ┆          ┆         │\n",
       "├╌╌╌╌╌╌╌╌╌╌╌╌┼╌╌╌╌╌╌╌╌╌╌╌╌┼╌╌╌╌╌╌╌╌╌╌╌╌┼╌╌╌╌╌╌╌╌╌┼╌╌╌╌╌┼╌╌╌╌╌╌╌╌╌╌┼╌╌╌╌╌╌╌╌╌╌╌┼╌╌╌╌╌╌╌╌╌╌┼╌╌╌╌╌╌╌╌╌┤\n",
       "│ 0          ┆ 2149713000 ┆ 2149714000 ┆ 2149713 ┆ ... ┆ null     ┆ 0         ┆ null     ┆ null    │\n",
       "│            ┆ 000000     ┆ 000000     ┆ 1724083 ┆     ┆          ┆           ┆          ┆         │\n",
       "│            ┆            ┆            ┆ 58      ┆     ┆          ┆           ┆          ┆         │\n",
       "├╌╌╌╌╌╌╌╌╌╌╌╌┼╌╌╌╌╌╌╌╌╌╌╌╌┼╌╌╌╌╌╌╌╌╌╌╌╌┼╌╌╌╌╌╌╌╌╌┼╌╌╌╌╌┼╌╌╌╌╌╌╌╌╌╌┼╌╌╌╌╌╌╌╌╌╌╌┼╌╌╌╌╌╌╌╌╌╌┼╌╌╌╌╌╌╌╌╌┤\n",
       "│ 0          ┆ 2149715000 ┆ 2149716000 ┆ 2149715 ┆ ... ┆ null     ┆ 0         ┆ null     ┆ null    │\n",
       "│            ┆ 000000     ┆ 000000     ┆ 4732108 ┆     ┆          ┆           ┆          ┆         │\n",
       "│            ┆            ┆            ┆ 69      ┆     ┆          ┆           ┆          ┆         │\n",
       "└────────────┴────────────┴────────────┴─────────┴─────┴──────────┴───────────┴──────────┴─────────┘"
      ]
     },
     "execution_count": 80,
     "metadata": {},
     "output_type": "execute_result"
    }
   ],
   "source": [
    "// nozzle detections @ 15fps windowed by 1s interval/period\n",
    "\n",
    "let every = \"1s\";\n",
    "let period = \"1s\"; \n",
    "let offset = \"0s\";\n",
    "let score_threshold = 0.5;\n",
    "let ddof = 0; // delta degrees of freedom, used for std deviation / variance calculations. divisor = N - ddof, where N is the number of elements in set.\n",
    "\n",
    "let group_options = DynamicGroupOptions{\n",
    "    index_column: \"ts\".to_string(),\n",
    "    every: Duration::parse(every),\n",
    "    period: Duration::parse(period), \n",
    "    offset: Duration::parse(offset), \n",
    "    closed_window: ClosedWindow::Left,\n",
    "    truncate: false,\n",
    "    include_boundaries: true\n",
    "};\n",
    "\n",
    "let windowed_nozzle_df = boxdf.clone().lazy()\n",
    "    .filter(col(\"detection_classes\").eq(0))\n",
    "    .filter(col(\"detection_scores\").gt(score_threshold))\n",
    "    .sort(\"ts\", SortOptions { descending: false, nulls_last: false })\n",
    "    .groupby_dynamic([col(\"detection_classes\")], group_options )\n",
    "    .agg([\n",
    "        col(\"detection_scores\").filter(col(\"detection_classes\").eq(0)).count().alias(\"nozzle__count\"),\n",
    "        col(\"detection_scores\").filter(col(\"detection_classes\").eq(0)).mean().alias(\"nozzle__mean\"),\n",
    "        col(\"detection_scores\").filter(col(\"detection_classes\").eq(0)).std(ddof).alias(\"nozzle__std\"),\n",
    "\n",
    "        col(\"detection_scores\").filter(col(\"detection_classes\").eq(1)).count().alias(\"adhesion__count\"),\n",
    "        col(\"detection_scores\").filter(col(\"detection_classes\").eq(1)).mean().alias(\"adhesion__mean\"),\n",
    "        col(\"detection_scores\").filter(col(\"detection_classes\").eq(1)).std(ddof).alias(\"adhesion__std\"),\n",
    "\n",
    "        col(\"detection_scores\").filter(col(\"detection_classes\").eq(2)).count().alias(\"spaghetti__count\"),\n",
    "        col(\"detection_scores\").filter(col(\"detection_classes\").eq(2)).mean().alias(\"spaghetti__mean\"),\n",
    "        col(\"detection_scores\").filter(col(\"detection_classes\").eq(2)).std(ddof).alias(\"spaghetti__std\"),\n",
    "\n",
    "        col(\"detection_scores\").filter(col(\"detection_classes\").eq(3)).count().alias(\"print__count\"),     \n",
    "        col(\"detection_scores\").filter(col(\"detection_classes\").eq(3)).mean().alias(\"print__mean\"),\n",
    "        col(\"detection_scores\").filter(col(\"detection_classes\").eq(3)).std(ddof).alias(\"print__std\"),\n",
    "\n",
    "        col(\"detection_scores\").filter(col(\"detection_classes\").eq(4)).count().alias(\"raft__count\"),     \n",
    "        col(\"detection_scores\").filter(col(\"detection_classes\").eq(4)).mean().alias(\"raft__mean\"),\n",
    "        col(\"detection_scores\").filter(col(\"detection_classes\").eq(4)).std(ddof).alias(\"raft__std\"),\n",
    "\n",
    "    ])\n",
    "    .collect()?;\n",
    "windowed_nozzle_df"
   ]
  },
  {
   "cell_type": "code",
   "execution_count": 51,
   "id": "5025cb41-02b8-41cd-81b4-4f74428df16a",
   "metadata": {},
   "outputs": [
    {
     "data": {
      "text/plain": [
       "()"
      ]
     },
     "execution_count": 51,
     "metadata": {},
     "output_type": "execute_result"
    }
   ],
   "source": [
    "extern crate plotly;\n",
    "use plotly::common::{\n",
    "    ColorScale, ColorScalePalette, DashType, Fill, Font, Line, LineShape, Marker, Mode, Title,\n",
    "};\n",
    "use plotly::layout::{Axis, BarMode, Layout, Legend, TicksDirection};\n",
    "use plotly::{Bar, Plot, Scatter};\n",
    "\n",
    "let series = windowed_nozzle_df.select_series([\"ts\", \"detection_scores\"])?;\n",
    "let x: Vec<i64> = series[0].i64()?.into_no_null_iter().collect(); \n",
    "let y = series[1].f32()?.into_no_null_iter().collect();\n",
    "let trace1 = Scatter::new(x, y);\n",
    "\n",
    "let mut plot = Plot::new();\n",
    "plot.add_trace(trace1);\n",
    "plot.show()"
   ]
  }
 ],
 "metadata": {
  "kernelspec": {
   "display_name": "Rust",
   "language": "rust",
   "name": "rust"
  },
  "language_info": {
   "codemirror_mode": "rust",
   "file_extension": ".rs",
   "mimetype": "text/rust",
   "name": "Rust",
   "pygment_lexer": "rust",
   "version": ""
  }
 },
 "nbformat": 4,
 "nbformat_minor": 5
}
