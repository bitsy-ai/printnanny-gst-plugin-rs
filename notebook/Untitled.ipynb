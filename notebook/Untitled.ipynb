{
 "cells": [
  {
   "cell_type": "code",
   "execution_count": 4,
   "id": "2d0545a9",
   "metadata": {},
   "outputs": [
    {
     "name": "stdout",
     "output_type": "stream",
     "text": [
      "Defaulting to user installation because normal site-packages is not writeable\n",
      "Requirement already satisfied: pandas in /home/leigh/.local/lib/python3.10/site-packages (1.5.0)\n",
      "Collecting pyarrow\n",
      "  Downloading pyarrow-9.0.0-cp310-cp310-manylinux_2_17_x86_64.manylinux2014_x86_64.whl (35.3 MB)\n",
      "\u001b[2K     \u001b[38;2;114;156;31m━━━━━━━━━━━━━━━━━━━━━━━━━━━━━━━━━━━━━━━━\u001b[0m \u001b[32m35.3/35.3 MB\u001b[0m \u001b[31m53.3 MB/s\u001b[0m eta \u001b[36m0:00:00\u001b[0mm eta \u001b[36m0:00:01\u001b[0m[36m0:00:01\u001b[0m\n",
      "\u001b[?25hRequirement already satisfied: pytz>=2020.1 in /usr/lib/python3/dist-packages (from pandas) (2022.1)\n",
      "Requirement already satisfied: numpy>=1.21.0 in /usr/lib/python3/dist-packages (from pandas) (1.21.5)\n",
      "Requirement already satisfied: python-dateutil>=2.8.1 in /usr/lib/python3/dist-packages (from pandas) (2.8.1)\n",
      "Installing collected packages: pyarrow\n",
      "Successfully installed pyarrow-9.0.0\n"
     ]
    }
   ],
   "source": [
    "!pip install pandas pyarrow"
   ]
  },
  {
   "cell_type": "code",
   "execution_count": 16,
   "id": "83b2f2d2",
   "metadata": {},
   "outputs": [],
   "source": [
    "import pandas as pd\n",
    "import pyarrow as pa\n",
    "import glob"
   ]
  },
  {
   "cell_type": "code",
   "execution_count": 22,
   "id": "96d00584",
   "metadata": {},
   "outputs": [
    {
     "data": {
      "text/html": [
       "<div>\n",
       "<style scoped>\n",
       "    .dataframe tbody tr th:only-of-type {\n",
       "        vertical-align: middle;\n",
       "    }\n",
       "\n",
       "    .dataframe tbody tr th {\n",
       "        vertical-align: top;\n",
       "    }\n",
       "\n",
       "    .dataframe thead th {\n",
       "        text-align: right;\n",
       "    }\n",
       "</style>\n",
       "<table border=\"1\" class=\"dataframe\">\n",
       "  <thead>\n",
       "    <tr style=\"text-align: right;\">\n",
       "      <th></th>\n",
       "      <th>detection_boxes_x0</th>\n",
       "      <th>detection_boxes_y0</th>\n",
       "      <th>detection_boxes_x1</th>\n",
       "      <th>detection_boxes_y1</th>\n",
       "      <th>detection_classes</th>\n",
       "      <th>detection_scores</th>\n",
       "      <th>ts</th>\n",
       "    </tr>\n",
       "  </thead>\n",
       "  <tbody>\n",
       "    <tr>\n",
       "      <th>0</th>\n",
       "      <td>0.526349</td>\n",
       "      <td>0.208802</td>\n",
       "      <td>0.997860</td>\n",
       "      <td>0.736488</td>\n",
       "      <td>2</td>\n",
       "      <td>0.902344</td>\n",
       "      <td>2146441441768762</td>\n",
       "    </tr>\n",
       "    <tr>\n",
       "      <th>1</th>\n",
       "      <td>0.769499</td>\n",
       "      <td>0.587252</td>\n",
       "      <td>1.004271</td>\n",
       "      <td>0.847053</td>\n",
       "      <td>3</td>\n",
       "      <td>0.804688</td>\n",
       "      <td>2146441441768762</td>\n",
       "    </tr>\n",
       "    <tr>\n",
       "      <th>2</th>\n",
       "      <td>0.518694</td>\n",
       "      <td>0.449993</td>\n",
       "      <td>0.559257</td>\n",
       "      <td>0.485034</td>\n",
       "      <td>0</td>\n",
       "      <td>0.652344</td>\n",
       "      <td>2146441441768762</td>\n",
       "    </tr>\n",
       "    <tr>\n",
       "      <th>3</th>\n",
       "      <td>0.773364</td>\n",
       "      <td>0.412974</td>\n",
       "      <td>0.992092</td>\n",
       "      <td>0.854805</td>\n",
       "      <td>1</td>\n",
       "      <td>0.500000</td>\n",
       "      <td>2146441441768762</td>\n",
       "    </tr>\n",
       "    <tr>\n",
       "      <th>4</th>\n",
       "      <td>0.824050</td>\n",
       "      <td>0.870139</td>\n",
       "      <td>0.944044</td>\n",
       "      <td>0.995659</td>\n",
       "      <td>2</td>\n",
       "      <td>0.382812</td>\n",
       "      <td>2146441441768762</td>\n",
       "    </tr>\n",
       "    <tr>\n",
       "      <th>...</th>\n",
       "      <td>...</td>\n",
       "      <td>...</td>\n",
       "      <td>...</td>\n",
       "      <td>...</td>\n",
       "      <td>...</td>\n",
       "      <td>...</td>\n",
       "      <td>...</td>\n",
       "    </tr>\n",
       "    <tr>\n",
       "      <th>35</th>\n",
       "      <td>0.537564</td>\n",
       "      <td>0.648279</td>\n",
       "      <td>0.694081</td>\n",
       "      <td>0.700828</td>\n",
       "      <td>3</td>\n",
       "      <td>0.011719</td>\n",
       "      <td>2146406149304817</td>\n",
       "    </tr>\n",
       "    <tr>\n",
       "      <th>36</th>\n",
       "      <td>0.560221</td>\n",
       "      <td>0.694288</td>\n",
       "      <td>0.689479</td>\n",
       "      <td>0.741774</td>\n",
       "      <td>0</td>\n",
       "      <td>0.011719</td>\n",
       "      <td>2146406149304817</td>\n",
       "    </tr>\n",
       "    <tr>\n",
       "      <th>37</th>\n",
       "      <td>0.591932</td>\n",
       "      <td>0.552550</td>\n",
       "      <td>0.668695</td>\n",
       "      <td>0.790509</td>\n",
       "      <td>4</td>\n",
       "      <td>0.011719</td>\n",
       "      <td>2146406149304817</td>\n",
       "    </tr>\n",
       "    <tr>\n",
       "      <th>38</th>\n",
       "      <td>0.610685</td>\n",
       "      <td>0.374599</td>\n",
       "      <td>0.713216</td>\n",
       "      <td>0.698384</td>\n",
       "      <td>4</td>\n",
       "      <td>0.011719</td>\n",
       "      <td>2146406149304817</td>\n",
       "    </tr>\n",
       "    <tr>\n",
       "      <th>39</th>\n",
       "      <td>0.414026</td>\n",
       "      <td>0.465702</td>\n",
       "      <td>0.770787</td>\n",
       "      <td>0.667858</td>\n",
       "      <td>3</td>\n",
       "      <td>0.011719</td>\n",
       "      <td>2146406149304817</td>\n",
       "    </tr>\n",
       "  </tbody>\n",
       "</table>\n",
       "<p>11320 rows × 7 columns</p>\n",
       "</div>"
      ],
      "text/plain": [
       "    detection_boxes_x0  detection_boxes_y0  detection_boxes_x1  \\\n",
       "0             0.526349            0.208802            0.997860   \n",
       "1             0.769499            0.587252            1.004271   \n",
       "2             0.518694            0.449993            0.559257   \n",
       "3             0.773364            0.412974            0.992092   \n",
       "4             0.824050            0.870139            0.944044   \n",
       "..                 ...                 ...                 ...   \n",
       "35            0.537564            0.648279            0.694081   \n",
       "36            0.560221            0.694288            0.689479   \n",
       "37            0.591932            0.552550            0.668695   \n",
       "38            0.610685            0.374599            0.713216   \n",
       "39            0.414026            0.465702            0.770787   \n",
       "\n",
       "    detection_boxes_y1  detection_classes  detection_scores                ts  \n",
       "0             0.736488                  2          0.902344  2146441441768762  \n",
       "1             0.847053                  3          0.804688  2146441441768762  \n",
       "2             0.485034                  0          0.652344  2146441441768762  \n",
       "3             0.854805                  1          0.500000  2146441441768762  \n",
       "4             0.995659                  2          0.382812  2146441441768762  \n",
       "..                 ...                ...               ...               ...  \n",
       "35            0.700828                  3          0.011719  2146406149304817  \n",
       "36            0.741774                  0          0.011719  2146406149304817  \n",
       "37            0.790509                  4          0.011719  2146406149304817  \n",
       "38            0.698384                  4          0.011719  2146406149304817  \n",
       "39            0.667858                  3          0.011719  2146406149304817  \n",
       "\n",
       "[11320 rows x 7 columns]"
      ]
     },
     "execution_count": 22,
     "metadata": {},
     "output_type": "execute_result"
    }
   ],
   "source": [
    "# pd.read_feather(\"/home/leigh/projects/printnanny-gst-plugin/.tmp/fixture_0_00000.ipc\")\n",
    "\n",
    "\n",
    "file_pattern = glob.glob(\"/home/leigh/projects/printnanny-gst-plugin/.tmp/*.ipc\")\n",
    "df = None\n",
    "for f in file_pattern:\n",
    "    with pa.ipc.open_stream(f) as reader:\n",
    "        if df is None:\n",
    "            df = reader.read_pandas()\n",
    "        else:\n",
    "            df = pd.concat([df,reader.read_pandas()])\n",
    "df"
   ]
  },
  {
   "cell_type": "code",
   "execution_count": 23,
   "id": "60fb9a34",
   "metadata": {},
   "outputs": [
    {
     "data": {
      "text/plain": [
       "<AxesSubplot:>"
      ]
     },
     "execution_count": 23,
     "metadata": {},
     "output_type": "execute_result"
    },
    {
     "data": {
      "image/png": "[encoded data removed]",
      "text/plain": [
       "<Figure size 432x288 with 1 Axes>"
      ]
     },
     "metadata": {
      "needs_background": "light"
     },
     "output_type": "display_data"
    }
   ],
   "source": [
    "df[\"detection_scores\"].hist()"
   ]
  },
  {
   "cell_type": "code",
   "execution_count": null,
   "id": "074b58b2",
   "metadata": {},
   "outputs": [],
   "source": []
  }
 ],
 "metadata": {
  "kernelspec": {
   "display_name": "Python 3 (ipykernel)",
   "language": "python",
   "name": "python3"
  },
  "language_info": {
   "codemirror_mode": {
    "name": "ipython",
    "version": 3
   },
   "file_extension": ".py",
   "mimetype": "text/x-python",
   "name": "python",
   "nbconvert_exporter": "python",
   "pygments_lexer": "ipython3",
   "version": "3.10.6"
  }
 },
 "nbformat": 4,
 "nbformat_minor": 5
}
